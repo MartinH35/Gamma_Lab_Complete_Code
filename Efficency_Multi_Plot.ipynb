{
 "cells": [
  {
   "cell_type": "code",
   "execution_count": null,
   "id": "3a2fa1ec",
   "metadata": {},
   "outputs": [],
   "source": [
    "import numpy as np\n",
    "import matplotlib.pyplot as plt\n",
    "import pathlib\n",
    "from scipy.optimize import curve_fit\n",
    "from numpy import inf as INF\n",
    "\n",
    "FEPE_NaI = [0.43666313789983, 0.22141603186894257, 0.08999789088043553, 0.012590557093286702, 0.008525107326705111, 0.11254601184415042]\n",
    "Energy_Nai = [59.5409, 30.8535602, 356.02, 1173.228, 1332.492, 661.657]\n",
    "\n",
    "Energy_CdTe = [13.81, 17.7, 59.54, 30.85, 80.9979]\n",
    "FEPE_CdTe = [0.00023584268278633956, 0.00030245050801734836, 0.0006627832029187644, 0.0008416264694058657, 0.00019516927725234473]\n",
    "\n",
    "\n",
    "Energy_Ge = (59.5409, 302.8508, 356.02, 1173.228, 1332.492, 661.657)\n",
    "FEPE_Ge = [0.3209426457868176, 0.08617511268310077, 0.21784688625028598, 0.015633362020448762, 0.012756168956050088, 0.06831972925165693]\n",
    "\n",
    "\n",
    "Energy_BGO = (59.5409,1173.228,1332.492,356.02)\n",
    "FEPE_BGO = [0.4318693097316493, 0.2744373548733432, 0.24913549913002078, 0.38837443032876034]\n",
    "\n",
    "def efficency_eqn(E, a, b, c):\n",
    "    Eff = a + b*np.log(E) + c*(np.log(E))**2\n",
    "    return (Eff)\n",
    "\n",
    "def Eff_fit(x,y):\n",
    "    fit, _ = curve_fit(efficency_eqn,x, y)\n",
    "    a,b,c = fit\n",
    "    #plt.scatter(x, y)\n",
    "    x_line = np.arange(min(x), max(x), 1)\n",
    "    # calculate the output for the range\n",
    "    y_line = efficency_eqn(x_line, a, b, c)\n",
    "    # create a line plot for the mapping function\n",
    "    plt.plot(x_line, y_line, '-')\n",
    "    plt.xlabel('Energy keV')\n",
    "    plt.ylabel('Absolute Efficiency')\n",
    "    plt.xscale(\"log\")\n",
    "    plt.yscale(\"log\")\n",
    "    plt.title('Absolute Efficiency vs Energy For 4 Detectors')\n",
    "\n",
    "Eff_fit(Energy_Nai,FEPE_NaI)\n",
    "Eff_fit(Energy_CdTe,FEPE_CdTe)\n",
    "Eff_fit(Energy_Ge,FEPE_Ge)\n",
    "Eff_fit(Energy_BGO,FEPE_BGO)\n",
    "plt.legend(['NaI:Tl','CdTe','HpGe','BGO'])            \n",
    "\n",
    " \n",
    " "
   ]
  }
 ],
 "metadata": {
  "kernelspec": {
   "display_name": "Python 3 (ipykernel)",
   "language": "python",
   "name": "python3"
  },
  "language_info": {
   "codemirror_mode": {
    "name": "ipython",
    "version": 3
   },
   "file_extension": ".py",
   "mimetype": "text/x-python",
   "name": "python",
   "nbconvert_exporter": "python",
   "pygments_lexer": "ipython3",
   "version": "3.9.12"
  }
 },
 "nbformat": 4,
 "nbformat_minor": 5
}
